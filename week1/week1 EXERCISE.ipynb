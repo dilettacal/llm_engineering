{
 "cells": [
  {
   "cell_type": "markdown",
   "id": "fe12c203-e6a6-452c-a655-afb8a03a4ff5",
   "metadata": {},
   "source": [
    "# End of week 1 exercise\n",
    "\n",
    "To demonstrate your familiarity with OpenAI API, and also Ollama, build a tool that takes a technical question,  \n",
    "and responds with an explanation. This is a tool that you will be able to use yourself during the course!"
   ]
  },
  {
   "cell_type": "code",
   "execution_count": 16,
   "id": "c1070317-3ed9-4659-abe3-828943230e03",
   "metadata": {},
   "outputs": [],
   "source": [
    "# imports\n",
    "\n",
    "from dotenv import load_dotenv\n",
    "from IPython.display import Markdown, display, update_display\n",
    "from openai import OpenAI\n",
    "import ollama"
   ]
  },
  {
   "cell_type": "code",
   "execution_count": 3,
   "id": "4a456906-915a-4bfd-bb9d-57e505c5093f",
   "metadata": {},
   "outputs": [],
   "source": [
    "# constants\n",
    "\n",
    "MODEL_GPT = 'gpt-4o-mini'\n",
    "MODEL_LLAMA = 'llama3.2'"
   ]
  },
  {
   "cell_type": "code",
   "execution_count": 7,
   "id": "a8d7923c-5f28-4c30-8556-342d7c8497c1",
   "metadata": {},
   "outputs": [
    {
     "name": "stdout",
     "output_type": "stream",
     "text": [
      "API key looks good so far\n"
     ]
    }
   ],
   "source": [
    "# set up environment\n",
    "load_dotenv(override=True)\n",
    "api_key = os.getenv('OPENAI_API_KEY')\n",
    "\n",
    "if api_key and api_key.startswith('sk-proj-') and len(api_key)>10:\n",
    "    print(\"API key looks good so far\")\n",
    "else:\n",
    "    print(\"There might be a problem with your API key? Please visit the troubleshooting notebook!\")\n",
    "    \n",
    "MODEL = 'gpt-4o-mini'\n",
    "openai = OpenAI()"
   ]
  },
  {
   "cell_type": "code",
   "execution_count": 13,
   "id": "3f0d0137-52b0-47a8-81a8-11a90a010798",
   "metadata": {},
   "outputs": [],
   "source": [
    "# here is the question; type over this to ask something new\n",
    "system_prompt = \"You are a helpful technical tutor who answers questions about python code, software engineering, data science and LLMs\"\n",
    "question = \"\"\"\n",
    "Please explain what this code does and why:\n",
    "yield from {book.get(\"author\") for book in books if book.get(\"author\")}\n",
    "\"\"\"\n",
    "user_prompt = \"Please give a detailed explanation to the following question: \" + question"
   ]
  },
  {
   "cell_type": "code",
   "execution_count": 14,
   "id": "43f5eab2-f0df-4ccd-8e7b-9866c933b0ea",
   "metadata": {},
   "outputs": [],
   "source": [
    "\n",
    "messages = [\n",
    "    {\"role\": \"system\", \"content\": system_prompt},\n",
    "    {\"role\": \"user\", \"content\": user_prompt}\n",
    "]"
   ]
  },
  {
   "cell_type": "code",
   "execution_count": 17,
   "id": "60ce7000-a4a5-4cce-a261-e75ef45063b4",
   "metadata": {},
   "outputs": [
    {
     "data": {
      "text/markdown": [
       "The code snippet you've shared uses Python's `yield from` along with a set comprehension to process a collection of books. Let's break it down step by step to understand what it does and why it's written this way.\n",
       "\n",
       "### Code Breakdown\n",
       "\n",
       "**1. Understanding the Components:**\n",
       "   - **`yield from`:** This is a special syntax in Python used in generators. A generator is a function that uses the `yield` statement to produce a series of values. The `yield from` syntax allows a generator to yield all values from another iterable (like a list, set, or generator expression) one by one.\n",
       "   - **Set Comprehension:** `{book.get(\"author\") for book in books if book.get(\"author\")}` is a set comprehension that iterates over a collection called `books`. From each book, it attempts to retrieve the value associated with the key `\"author\"`.\n",
       "     - `book.get(\"author\")`: This method retrieves the value for the key `\"author\"` in the dictionary `book`. If the key does not exist, `get()` will return `None`.\n",
       "     - `if book.get(\"author\")`: This conditional filters out any books where the author is `None` or doesn't exist (i.e., it only includes books that have a valid author.)\n",
       "\n",
       "**2. Overall Functionality:**\n",
       "   - The entire expression `{book.get(\"author\") for book in books if book.get(\"author\")}` creates a set of unique authors from the list of books, filtering out any entries without an author.\n",
       "   - With `yield from`, the generator produced by the containing function will yield each unique author one by one. This means that if there are many authors, they can all be accessed and processed in a memory-efficient manner.\n",
       "\n",
       "### Why This Code Is Written This Way\n",
       "\n",
       "1. **Efficiency**: Using `yield from` keeps memory usage low compared to returning a complete list of authors, especially useful if there are many books. It allows processing of each author as it is generated instead of storing them all in memory at once.\n",
       "\n",
       "2. **Uniqueness**: By using a set comprehension, the code ensures that even if there are multiple books by authors or multiple entries for the same author in the `books` list, each author only appears once in the output.\n",
       "\n",
       "3. **Readability**: The use of comprehensions and `yield from` makes this code concise and expressive. It clearly conveys the intent: to yield each author's name from a collection of books.\n",
       "\n",
       "### Complete Example\n",
       "\n",
       "Here’s a complete function demonstrating how this piece of code might be utilized within a generator function:\n",
       "\n",
       "python\n",
       "def get_unique_authors(books):\n",
       "    yield from {book.get(\"author\") for book in books if book.get(\"author\")}\n",
       "\n",
       "# Example usage:\n",
       "books = [\n",
       "    {\"title\": \"Book1\", \"author\": \"Author1\"},\n",
       "    {\"title\": \"Book2\", \"author\": \"Author2\"},\n",
       "    {\"title\": \"Book3\"},  # No author\n",
       "    {\"title\": \"Book4\", \"author\": \"Author1\"},  # Duplicate author\n",
       "]\n",
       "\n",
       "for author in get_unique_authors(books):\n",
       "    print(author)\n",
       "\n",
       "\n",
       "### Conclusion\n",
       "\n",
       "In summary, the code effectively creates a generator that yields unique authors from a collection of book dictionaries, ensuring efficient memory usage and clarity. It combines the functionality of set comprehensions with the power of generators, making it a useful construct for many applications dealing with collections of data in Python."
      ],
      "text/plain": [
       "<IPython.core.display.Markdown object>"
      ]
     },
     "metadata": {},
     "output_type": "display_data"
    }
   ],
   "source": [
    "# Get gpt-4o-mini to answer, with streaming\n",
    "stream = openai.chat.completions.create(model=MODEL_GPT, messages=messages,stream=True)\n",
    "    \n",
    "response = \"\"\n",
    "display_handle = display(Markdown(\"\"), display_id=True)\n",
    "\n",
    "for chunk in stream:\n",
    "    response += chunk.choices[0].delta.content or ''\n",
    "    response = response.replace(\"```\",\"\").replace(\"markdown\", \"\")\n",
    "    update_display(Markdown(response), display_id=display_handle.display_id)"
   ]
  },
  {
   "cell_type": "code",
   "execution_count": 18,
   "id": "8f7c8ea8-4082-4ad0-8751-3301adcf6538",
   "metadata": {},
   "outputs": [
    {
     "data": {
      "text/markdown": [
       "**Code Breakdown**\n",
       "\n",
       "The given code is using Python's generator expression syntax to extract author names from a list of books. Let's break it down:\n",
       "\n",
       "```python\n",
       "{book.get(\"author\") for book in books if book.get(\"author\")}\n",
       "```\n",
       "\n",
       "*   `{...}`: This is a dictionary comprehension, but not exactly. Instead, it's an iterable expression that creates an iterator.\n",
       "*   `for book in books`: This part iterates over the `books` list.\n",
       "*   `if book.get(\"author\")`: The `book` dictionary is checked to see if it has an `\"author\"` key. If it does, the corresponding value (i.e., the author's name) is used in the iteration.\n",
       "\n",
       "**What happens next?**\n",
       "\n",
       "When we combine these parts with `yield from`, we get:\n",
       "\n",
       "```python\n",
       "yield from {book.get(\"author\") for book in books if book.get(\"author\")}\n",
       "```\n",
       "\n",
       "*   `yield from`: This keyword tells Python to yield values from an iterable. In this case, it yields the author names.\n",
       "\n",
       "**What does `yield from` do?**\n",
       "\n",
       "When used with an iterable expression, like our dictionary comprehension, `yield from` creates a generator that produces one value at a time instead of creating and returning all values in memory at once (which would be more memory-intensive).\n",
       "\n",
       "**Why use `yield from` here?**\n",
       "\n",
       "In this specific case, using `yield from` is useful because it allows us to:\n",
       "\n",
       "*   Avoid loading all author names into memory simultaneously.\n",
       "*   Instead, load them one by one as they're needed.\n",
       "\n",
       "This can be particularly helpful when dealing with large datasets or when memory resources are limited.\n",
       "\n",
       "**Example Use Case**\n",
       "\n",
       "Here's an example of how this code might be used in a larger program:\n",
       "\n",
       "```python\n",
       "def get_author_names(books):\n",
       "    return yield from {book.get(\"author\") for book in books if book.get(\"author\")}\n",
       "\n",
       "# Assume we have a list of dictionaries representing books, where each dictionary has an 'author' key\n",
       "books = [\n",
       "    {\"title\": \"Book 1\", \"author\": \"Author A\"},\n",
       "    {\"title\": \"Book 2\", \"author\": None},\n",
       "    {\"title\": \"Book 3\", \"author\": \"Author C\"}\n",
       "]\n",
       "\n",
       "for author_name in get_author_names(books):\n",
       "    print(author_name)\n",
       "```\n",
       "\n",
       "This example demonstrates how the `yield from` expression can be used to extract author names from a list of books and print them one by one, without loading all author names into memory at once."
      ],
      "text/plain": [
       "<IPython.core.display.Markdown object>"
      ]
     },
     "metadata": {},
     "output_type": "display_data"
    }
   ],
   "source": [
    "# Get Llama 3.2 to answer\n",
    "response = ollama.chat(model=MODEL_LLAMA, messages=messages)\n",
    "reply = response['message']['content']\n",
    "display(Markdown(reply))"
   ]
  },
  {
   "cell_type": "code",
   "execution_count": null,
   "id": "c5fec087-3a04-4c87-9864-6d82f6888a04",
   "metadata": {},
   "outputs": [],
   "source": []
  }
 ],
 "metadata": {
  "kernelspec": {
   "display_name": "Python 3 (ipykernel)",
   "language": "python",
   "name": "python3"
  },
  "language_info": {
   "codemirror_mode": {
    "name": "ipython",
    "version": 3
   },
   "file_extension": ".py",
   "mimetype": "text/x-python",
   "name": "python",
   "nbconvert_exporter": "python",
   "pygments_lexer": "ipython3",
   "version": "3.11.13"
  }
 },
 "nbformat": 4,
 "nbformat_minor": 5
}
