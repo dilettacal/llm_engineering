{
 "cells": [
  {
   "cell_type": "code",
   "execution_count": 3,
   "id": "4e2a9393-7767-488e-a8bf-27c12dca35bd",
   "metadata": {},
   "outputs": [],
   "source": [
    "# imports\n",
    "\n",
    "import os\n",
    "import requests\n",
    "from dotenv import load_dotenv\n",
    "from bs4 import BeautifulSoup\n",
    "from IPython.display import Markdown, display\n",
    "from openai import OpenAI\n",
    "\n",
    "# If you get an error running this cell, then please head over to the troubleshooting notebook!"
   ]
  },
  {
   "cell_type": "code",
   "execution_count": 4,
   "id": "7b87cadb-d513-4303-baee-a37b6f938e4d",
   "metadata": {},
   "outputs": [
    {
     "name": "stdout",
     "output_type": "stream",
     "text": [
      "API key found and looks good so far!\n"
     ]
    }
   ],
   "source": [
    "# Load environment variables in a file called .env\n",
    "\n",
    "load_dotenv(override=True)\n",
    "api_key = os.getenv('OPENAI_API_KEY')\n",
    "\n",
    "# Check the key\n",
    "\n",
    "if not api_key:\n",
    "    print(\"No API key was found - please head over to the troubleshooting notebook in this folder to identify & fix!\")\n",
    "elif not api_key.startswith(\"sk-proj-\"):\n",
    "    print(\"An API key was found, but it doesn't start sk-proj-; please check you're using the right key - see troubleshooting notebook\")\n",
    "elif api_key.strip() != api_key:\n",
    "    print(\"An API key was found, but it looks like it might have space or tab characters at the start or end - please remove them - see troubleshooting notebook\")\n",
    "else:\n",
    "    print(\"API key found and looks good so far!\")\n"
   ]
  },
  {
   "cell_type": "code",
   "execution_count": 5,
   "id": "019974d9-f3ad-4a8a-b5f9-0a3719aea2d3",
   "metadata": {},
   "outputs": [],
   "source": [
    "openai = OpenAI()"
   ]
  },
  {
   "cell_type": "markdown",
   "id": "442fc84b-0815-4f40-99ab-d9a5da6bda91",
   "metadata": {},
   "source": [
    "# Let's make a quick call to a Frontier model!"
   ]
  },
  {
   "cell_type": "code",
   "execution_count": 6,
   "id": "a58394bf-1e45-46af-9bfd-01e24da6f49a",
   "metadata": {},
   "outputs": [
    {
     "name": "stdout",
     "output_type": "stream",
     "text": [
      "Hello! Welcome! I'm glad to hear from you. How can I assist you today?\n"
     ]
    }
   ],
   "source": [
    "# To give you a preview -- calling OpenAI with these messages is this easy. Any problems, head over to the Troubleshooting notebook.\n",
    "\n",
    "message = \"Hello, GPT! This is my first ever message to you! Hi!\"\n",
    "response = openai.chat.completions.create(model=\"gpt-4o-mini\", messages=[{\"role\":\"user\", \"content\":message}])\n",
    "print(response.choices[0].message.content)"
   ]
  },
  {
   "cell_type": "markdown",
   "id": "2aa190e5-cb31-456a-96cc-db109919cd78",
   "metadata": {},
   "source": [
    "## Website Scraper"
   ]
  },
  {
   "cell_type": "code",
   "execution_count": 7,
   "id": "c5e793b2-6775-426a-a139-4848291d0463",
   "metadata": {},
   "outputs": [],
   "source": [
    "headers = {\n",
    " \"User-Agent\": \"Mozilla/5.0 (Windows NT 10.0; Win64; x64) AppleWebKit/537.36 (KHTML, like Gecko) Chrome/117.0.0.0 Safari/537.36\"\n",
    "}\n",
    "\n",
    "class Website:\n",
    "\n",
    "    def __init__(self, url):\n",
    "        \"\"\"\n",
    "        Create this Website object from the given url using the BeautifulSoup library\n",
    "        \"\"\"\n",
    "        self.url = url\n",
    "        response = requests.get(url, headers=headers)\n",
    "        soup = BeautifulSoup(response.content, 'html.parser')\n",
    "        self.title = soup.title.string if soup.title else \"No title found\"\n",
    "        for irrelevant in soup.body([\"script\", \"style\", \"img\", \"input\"]):\n",
    "            irrelevant.decompose()\n",
    "        self.text = soup.body.get_text(separator=\"\\n\", strip=True)"
   ]
  },
  {
   "cell_type": "code",
   "execution_count": 9,
   "id": "2ef960cf-6dc2-4cda-afb3-b38be12f4c97",
   "metadata": {},
   "outputs": [
    {
     "name": "stdout",
     "output_type": "stream",
     "text": [
      "CARIAD – Automotive Software for Volkswagen\n",
      "Home\n",
      "Company\n",
      "Company\n",
      "Company Overview\n",
      "Our Board\n",
      "Our Numbers\n",
      "Our Glossary\n",
      "Solutions\n",
      "Solutions\n",
      "Solutions Overview\n",
      "Futureproof Hardware\n",
      "Unified Software\n",
      "Innovative Applications\n",
      "News\n",
      "News\n",
      "News Overview\n",
      "Archive\n",
      "Events\n",
      "Press Contacts & Downloads\n",
      "Careers\n",
      "Careers\n",
      "Careers Overview\n",
      "Our Jobs\n",
      "Our Tech Teams\n",
      "Our Benefits\n",
      "Women in Tech\n",
      "Diversity & Inclusion\n",
      "Recruiting Process\n",
      "FAQ Jobs\n",
      "Code transforming mobility\n",
      "At CARIAD, we are shaping automotive software that supports Volkswagen Group’s path to becoming a global tech driver in automotive.\n",
      "Our products already power mobility experiences in millions of vehicles around the world  — making mobility safer, more sustainable, and more comfortable for everyone.\n",
      "We develop synergetic tech for the Volkswagen Group\n",
      "Automated Driving for enhanced road safety and driving comfort\n",
      "Automated Driving for enhanced road safety and driving comfort\n",
      "User-centric infotainment solutions for more personalized mobility experiences\n",
      "User-centric infotainment solutions for more personalized mobility experiences\n",
      "A digital ecosystem in and around the car\n",
      "A digital ecosystem in and around the car\n",
      "Purpose-build vehicle driving platform for energy, body and motion systems\n",
      "Purpose-build vehicle driving platform for energy, body and motion systems\n",
      "We are CARIAD\n",
      "We are the Volkswagen Group’s automotive software company. Our mission is to create and deliver leading digital technologies for iconic car brands, including Audi, Volkswagen and Porsche.\n",
      "Learn more about CARIAD\n",
      "Innovation at scale\n",
      "Our tech teams are developing scalable software platforms and digital customer functions for automotive. Vehicles like the Volkswagen ID.Buzz and ID.7, the Audi A5 and the electric Porsche Macan are already equipped with the latest CARIAD technology.\n",
      "Explore our solutions\n",
      "Join the team\n",
      "Our software powers mobility experiences for millions. Explore your opportunities at CARIAD and join us in changing mobility for the better.\n",
      "Job offers\n",
      "Latest News\n",
      "PressRelease\n",
      "Bosch and CARIAD are making automated driving even safer with AI\n",
      "AI is taking the software stack to a new level\n",
      "Read more\n",
      "11/08/2025\n",
      "Technology\n",
      "Summer travels made easy with CARIAD’s EV routing solutions\n",
      "During the summer months, as people take the road for their holidays, one question becomes key to many: what’s the best route to take? For electric vehicle drivers, the answer goes beyond distance or speed – it’s about smart energy management to make e-mobility practical for long-distance journeys.\n",
      "Read more\n",
      "01/08/2025\n",
      "Technology\n",
      "How CARIAD powers one of the largest connected vehicle fleets\n",
      "Modern vehicles have evolved far beyond simply getting us from point A to point B. They have transformed into intelligent companions that turn every drive into a personalized, digital experience. The unsung hero behind: connectivity.\n",
      "Read more\n",
      "16/07/2025\n",
      "Show more\n",
      "Company\n",
      "About Us\n",
      "News\n",
      "Press Release\n",
      "Press Contacts\n",
      "Solutions\n",
      "Our Tech Stack\n",
      "Futureproof Hardware\n",
      "Unified Software\n",
      "Innovative Applications\n",
      "Careers\n",
      "What Drives Us\n",
      "How We Work\n",
      "What’s In It For You\n",
      "Our Jobs\n",
      "Locations\n",
      "Legal\n",
      "Legal Notice\n",
      "Privacy Policy\n",
      "Cookie Policy\n",
      "Compliance\n",
      "Whistleblower System\n",
      "© 2025 - CARIAD | All rights reserved\n"
     ]
    }
   ],
   "source": [
    "ed = Website(\"https://cariad.technology\")\n",
    "print(ed.title)\n",
    "print(ed.text)"
   ]
  },
  {
   "cell_type": "code",
   "execution_count": null,
   "id": "1abb920d-d671-4b1a-ab57-508c4baa04ff",
   "metadata": {},
   "outputs": [],
   "source": []
  },
  {
   "cell_type": "markdown",
   "id": "6a478a0c-2c53-48ff-869c-4d08199931e1",
   "metadata": {},
   "source": [
    "## Types of prompts\n",
    "\n",
    "You may know this already - but if not, you will get very familiar with it!\n",
    "\n",
    "Models like GPT4o have been trained to receive instructions in a particular way.\n",
    "\n",
    "They expect to receive:\n",
    "\n",
    "**A system prompt** that tells them what task they are performing and what tone they should use\n",
    "\n",
    "**A user prompt** -- the conversation starter that they should reply to"
   ]
  },
  {
   "cell_type": "code",
   "execution_count": 10,
   "id": "abdb8417-c5dc-44bc-9bee-2e059d162699",
   "metadata": {},
   "outputs": [],
   "source": [
    "# Define our system prompt - you can experiment with this later, changing the last sentence to 'Respond in markdown in Spanish.\"\n",
    "\n",
    "system_prompt = \"You are an assistant that analyzes the contents of a website \\\n",
    "and provides a short summary, ignoring text that might be navigation related. \\\n",
    "Respond in markdown.\""
   ]
  },
  {
   "cell_type": "code",
   "execution_count": 11,
   "id": "f0275b1b-7cfe-4f9d-abfa-7650d378da0c",
   "metadata": {},
   "outputs": [],
   "source": [
    "def user_prompt_for(website):\n",
    "    user_prompt = f\"You are looking at a website titled {website.title}\"\n",
    "    user_prompt += \"\\nThe contents of this website is as follows; \\\n",
    "please provide a short summary of this website in markdown. \\\n",
    "If it includes news or announcements, then summarize these too.\\n\\n\"\n",
    "    user_prompt += website.text\n",
    "    return user_prompt"
   ]
  },
  {
   "cell_type": "code",
   "execution_count": 12,
   "id": "26448ec4-5c00-4204-baec-7df91d11ff2e",
   "metadata": {},
   "outputs": [
    {
     "name": "stdout",
     "output_type": "stream",
     "text": [
      "You are looking at a website titled CARIAD – Automotive Software for Volkswagen\n",
      "The contents of this website is as follows; please provide a short summary of this website in markdown. If it includes news or announcements, then summarize these too.\n",
      "\n",
      "Home\n",
      "Company\n",
      "Company\n",
      "Company Overview\n",
      "Our Board\n",
      "Our Numbers\n",
      "Our Glossary\n",
      "Solutions\n",
      "Solutions\n",
      "Solutions Overview\n",
      "Futureproof Hardware\n",
      "Unified Software\n",
      "Innovative Applications\n",
      "News\n",
      "News\n",
      "News Overview\n",
      "Archive\n",
      "Events\n",
      "Press Contacts & Downloads\n",
      "Careers\n",
      "Careers\n",
      "Careers Overview\n",
      "Our Jobs\n",
      "Our Tech Teams\n",
      "Our Benefits\n",
      "Women in Tech\n",
      "Diversity & Inclusion\n",
      "Recruiting Process\n",
      "FAQ Jobs\n",
      "Code transforming mobility\n",
      "At CARIAD, we are shaping automotive software that supports Volkswagen Group’s path to becoming a global tech driver in automotive.\n",
      "Our products already power mobility experiences in millions of vehicles around the world  — making mobility safer, more sustainable, and more comfortable for everyone.\n",
      "We develop synergetic tech for the Volkswagen Group\n",
      "Automated Driving for enhanced road safety and driving comfort\n",
      "Automated Driving for enhanced road safety and driving comfort\n",
      "User-centric infotainment solutions for more personalized mobility experiences\n",
      "User-centric infotainment solutions for more personalized mobility experiences\n",
      "A digital ecosystem in and around the car\n",
      "A digital ecosystem in and around the car\n",
      "Purpose-build vehicle driving platform for energy, body and motion systems\n",
      "Purpose-build vehicle driving platform for energy, body and motion systems\n",
      "We are CARIAD\n",
      "We are the Volkswagen Group’s automotive software company. Our mission is to create and deliver leading digital technologies for iconic car brands, including Audi, Volkswagen and Porsche.\n",
      "Learn more about CARIAD\n",
      "Innovation at scale\n",
      "Our tech teams are developing scalable software platforms and digital customer functions for automotive. Vehicles like the Volkswagen ID.Buzz and ID.7, the Audi A5 and the electric Porsche Macan are already equipped with the latest CARIAD technology.\n",
      "Explore our solutions\n",
      "Join the team\n",
      "Our software powers mobility experiences for millions. Explore your opportunities at CARIAD and join us in changing mobility for the better.\n",
      "Job offers\n",
      "Latest News\n",
      "PressRelease\n",
      "Bosch and CARIAD are making automated driving even safer with AI\n",
      "AI is taking the software stack to a new level\n",
      "Read more\n",
      "11/08/2025\n",
      "Technology\n",
      "Summer travels made easy with CARIAD’s EV routing solutions\n",
      "During the summer months, as people take the road for their holidays, one question becomes key to many: what’s the best route to take? For electric vehicle drivers, the answer goes beyond distance or speed – it’s about smart energy management to make e-mobility practical for long-distance journeys.\n",
      "Read more\n",
      "01/08/2025\n",
      "Technology\n",
      "How CARIAD powers one of the largest connected vehicle fleets\n",
      "Modern vehicles have evolved far beyond simply getting us from point A to point B. They have transformed into intelligent companions that turn every drive into a personalized, digital experience. The unsung hero behind: connectivity.\n",
      "Read more\n",
      "16/07/2025\n",
      "Show more\n",
      "Company\n",
      "About Us\n",
      "News\n",
      "Press Release\n",
      "Press Contacts\n",
      "Solutions\n",
      "Our Tech Stack\n",
      "Futureproof Hardware\n",
      "Unified Software\n",
      "Innovative Applications\n",
      "Careers\n",
      "What Drives Us\n",
      "How We Work\n",
      "What’s In It For You\n",
      "Our Jobs\n",
      "Locations\n",
      "Legal\n",
      "Legal Notice\n",
      "Privacy Policy\n",
      "Cookie Policy\n",
      "Compliance\n",
      "Whistleblower System\n",
      "© 2025 - CARIAD | All rights reserved\n"
     ]
    }
   ],
   "source": [
    "print(user_prompt_for(ed))"
   ]
  },
  {
   "cell_type": "markdown",
   "id": "ea211b5f-28e1-4a86-8e52-c0b7677cadcc",
   "metadata": {},
   "source": [
    "## Messages\n",
    "\n",
    "The API from OpenAI expects to receive messages in a particular structure.\n",
    "Many of the other APIs share this structure:\n",
    "\n",
    "```python\n",
    "[\n",
    "    {\"role\": \"system\", \"content\": \"system message goes here\"},\n",
    "    {\"role\": \"user\", \"content\": \"user message goes here\"}\n",
    "]\n",
    "```\n",
    "To give you a preview, the next 2 cells make a rather simple call - we won't stretch the mighty GPT (yet!)"
   ]
  },
  {
   "cell_type": "code",
   "execution_count": 13,
   "id": "f25dcd35-0cd0-4235-9f64-ac37ed9eaaa5",
   "metadata": {},
   "outputs": [],
   "source": [
    "messages = [\n",
    "    {\"role\": \"system\", \"content\": \"You are a snarky assistant\"},\n",
    "    {\"role\": \"user\", \"content\": \"What is 2 + 2?\"}\n",
    "]"
   ]
  },
  {
   "cell_type": "code",
   "execution_count": 14,
   "id": "21ed95c5-7001-47de-a36d-1d6673b403ce",
   "metadata": {},
   "outputs": [
    {
     "name": "stdout",
     "output_type": "stream",
     "text": [
      "Oh, we're starting with the easy ones, huh? Well, the answer is 4. You might want to keep a calculator close by just in case the questions get trickier!\n"
     ]
    }
   ],
   "source": [
    "response = openai.chat.completions.create(model=\"gpt-4o-mini\", messages=messages)\n",
    "print(response.choices[0].message.content)"
   ]
  },
  {
   "cell_type": "markdown",
   "id": "d06e8d78-ce4c-4b05-aa8e-17050c82bb47",
   "metadata": {},
   "source": [
    "## And now let's build useful messages for GPT-4o-mini, using a function"
   ]
  },
  {
   "cell_type": "code",
   "execution_count": 15,
   "id": "0134dfa4-8299-48b5-b444-f2a8c3403c88",
   "metadata": {},
   "outputs": [],
   "source": [
    "def messages_for(website):\n",
    "    return [\n",
    "        {\"role\": \"system\", \"content\": system_prompt},\n",
    "        {\"role\": \"user\", \"content\": user_prompt_for(website)}\n",
    "    ]"
   ]
  },
  {
   "cell_type": "code",
   "execution_count": 16,
   "id": "36478464-39ee-485c-9f3f-6a4e458dbc9c",
   "metadata": {},
   "outputs": [
    {
     "data": {
      "text/plain": [
       "[{'role': 'system',\n",
       "  'content': 'You are an assistant that analyzes the contents of a website and provides a short summary, ignoring text that might be navigation related. Respond in markdown.'},\n",
       " {'role': 'user',\n",
       "  'content': 'You are looking at a website titled CARIAD – Automotive Software for Volkswagen\\nThe contents of this website is as follows; please provide a short summary of this website in markdown. If it includes news or announcements, then summarize these too.\\n\\nHome\\nCompany\\nCompany\\nCompany Overview\\nOur Board\\nOur Numbers\\nOur Glossary\\nSolutions\\nSolutions\\nSolutions Overview\\nFutureproof Hardware\\nUnified Software\\nInnovative Applications\\nNews\\nNews\\nNews Overview\\nArchive\\nEvents\\nPress Contacts & Downloads\\nCareers\\nCareers\\nCareers Overview\\nOur Jobs\\nOur Tech Teams\\nOur Benefits\\nWomen in Tech\\nDiversity & Inclusion\\nRecruiting Process\\nFAQ Jobs\\nCode transforming mobility\\nAt CARIAD, we are shaping automotive software that supports Volkswagen Group’s path to becoming a global tech driver in automotive.\\nOur products already power mobility experiences in millions of vehicles around the world \\xa0— making mobility safer, more sustainable, and more comfortable for everyone.\\nWe develop synergetic tech for the Volkswagen Group\\nAutomated Driving for enhanced road safety and driving comfort\\nAutomated Driving for enhanced road safety and driving comfort\\nUser-centric infotainment solutions for more personalized mobility experiences\\nUser-centric infotainment solutions for more personalized mobility experiences\\nA digital ecosystem in and around the car\\nA digital ecosystem in and around the car\\nPurpose-build vehicle driving platform for energy, body and motion systems\\nPurpose-build vehicle driving platform for energy, body and motion systems\\nWe are CARIAD\\nWe are the Volkswagen Group’s automotive software company. Our mission is to create and deliver leading digital technologies for iconic car brands, including Audi, Volkswagen and Porsche.\\nLearn more about CARIAD\\nInnovation at scale\\nOur tech teams are developing scalable software platforms and digital customer functions for automotive. Vehicles like the Volkswagen ID.Buzz and ID.7, the Audi A5 and the electric Porsche Macan are already equipped with the latest CARIAD technology.\\nExplore our solutions\\nJoin the team\\nOur software powers mobility experiences for millions. Explore your opportunities at CARIAD and join us in changing mobility for the better.\\nJob offers\\nLatest News\\nPressRelease\\nBosch and CARIAD are making automated driving even safer with AI\\nAI is taking the software stack to a new level\\nRead more\\n11/08/2025\\nTechnology\\nSummer travels made easy with CARIAD’s EV routing solutions\\nDuring the summer months, as people take the road for their holidays, one question becomes key to many: what’s the best route to take? For electric vehicle drivers, the answer goes beyond distance or speed – it’s about smart energy management to make e-mobility practical for long-distance journeys.\\nRead more\\n01/08/2025\\nTechnology\\nHow CARIAD powers one of the largest connected vehicle fleets\\nModern vehicles have evolved far beyond simply getting us from point A to point B. They have transformed into intelligent companions that turn every drive into a personalized, digital experience. The unsung hero behind: connectivity.\\nRead more\\n16/07/2025\\nShow more\\nCompany\\nAbout Us\\nNews\\nPress Release\\nPress Contacts\\nSolutions\\nOur Tech Stack\\nFutureproof Hardware\\nUnified Software\\nInnovative Applications\\nCareers\\nWhat Drives Us\\nHow We Work\\nWhat’s In It For You\\nOur Jobs\\nLocations\\nLegal\\nLegal Notice\\nPrivacy Policy\\nCookie Policy\\nCompliance\\nWhistleblower System\\n© 2025 - CARIAD | All rights reserved'}]"
      ]
     },
     "execution_count": 16,
     "metadata": {},
     "output_type": "execute_result"
    }
   ],
   "source": [
    "messages_for(ed)"
   ]
  },
  {
   "cell_type": "markdown",
   "id": "16f49d46-bf55-4c3e-928f-68fc0bf715b0",
   "metadata": {},
   "source": [
    "## Time to bring it together - the API for OpenAI is very simple!"
   ]
  },
  {
   "cell_type": "code",
   "execution_count": 17,
   "id": "905b9919-aba7-45b5-ae65-81b3d1d78e34",
   "metadata": {},
   "outputs": [],
   "source": [
    "def summarize(url):\n",
    "    website = Website(url)\n",
    "    response = openai.chat.completions.create(\n",
    "        model = \"gpt-4o-mini\",\n",
    "        messages = messages_for(website)\n",
    "    )\n",
    "    return response.choices[0].message.content"
   ]
  },
  {
   "cell_type": "code",
   "execution_count": 18,
   "id": "05e38d41-dfa4-4b20-9c96-c46ea75d9fb5",
   "metadata": {},
   "outputs": [
    {
     "data": {
      "text/plain": [
       "\"# CARIAD – Automotive Software for Volkswagen\\n\\nCARIAD is the Volkswagen Group's dedicated automotive software company, focused on developing innovative digital technologies to enhance mobility. The company aims to position the Volkswagen Group as a global leader in automotive technology, with solutions already integrated into millions of vehicles worldwide, aimed at making mobility safer, more sustainable, and more comfortable.\\n\\n## Key Offerings\\n- **Automated Driving**: Enhancing road safety and comfort through advanced software solutions.\\n- **User-Centric Infotainment**: Providing personalized mobility experiences for drivers and passengers.\\n- **Digital Ecosystem**: Creating an integrated digital environment in and around vehicles.\\n- **Purpose-Built Vehicle Platforms**: Developing specialized platforms for vehicles' energy management, body systems, and motion control.\\n\\n## Recent News\\n- **Bosch and CARIAD**: Announced a collaboration to improve automated driving safety using AI, enhancing their software stack. (Published on 11/08/2025)\\n- **Summer EV Routing Solutions**: Introduced smart routing solutions to assist electric vehicle drivers with energy management for long-distance travel during summer vacations. (Published on 01/08/2025)\\n- **Largest Connected Vehicle Fleets**: Highlighted how CARIAD's technology connects vehicles, transforming them into intelligent companions that offer a personalized driving experience. (Published on 16/07/2025)\\n\\nCARIAD emphasizes a culture of innovation and collaboration, encouraging prospective employees to join them in their mission to redefine mobility through technology.\""
      ]
     },
     "execution_count": 18,
     "metadata": {},
     "output_type": "execute_result"
    }
   ],
   "source": [
    "summarize(\"https://cariad.technology\")"
   ]
  },
  {
   "cell_type": "code",
   "execution_count": 19,
   "id": "3d926d59-450e-4609-92ba-2d6f244f1342",
   "metadata": {},
   "outputs": [],
   "source": [
    "def display_summary(url):\n",
    "    summary = summarize(url)\n",
    "    display(Markdown(summary))"
   ]
  },
  {
   "cell_type": "code",
   "execution_count": 21,
   "id": "3018853a-445f-41ff-9560-d925d1774b2f",
   "metadata": {},
   "outputs": [
    {
     "data": {
      "text/markdown": [
       "# CARIAD – Automotive Software for Volkswagen\n",
       "\n",
       "CARIAD is the Volkswagen Group's dedicated automotive software company, focused on transforming mobility through advanced digital technologies. Their mission is to enhance the driving experience for iconic brands like Audi, Volkswagen, and Porsche by developing innovative software solutions that make mobility safer, more sustainable, and more comfortable.\n",
       "\n",
       "## Key Highlights:\n",
       "\n",
       "- **Automated Driving:** CARIAD is committed to improving road safety and driving comfort through advanced automated driving technologies.\n",
       "- **Personalized Infotainment:** The company provides user-centric infotainment solutions that cater to individual mobility experiences.\n",
       "- **Digital Ecosystem:** CARIAD is building a comprehensive digital ecosystem that integrates various vehicle systems for optimized performance.\n",
       "- **Innovative Platforms:** They are developing scalable software platforms and customer functions for vehicles like the Volkswagen ID.Buzz, ID.7, Audi A5, and the electric Porsche Macan.\n",
       "\n",
       "## Latest News:\n",
       "\n",
       "1. **AI Collaboration with Bosch (11/08/2025):** CARIAD and Bosch are advancing automated driving safety through AI-enhanced software solutions.\n",
       "   \n",
       "2. **EV Routing Solutions (01/08/2025):** CARIAD has introduced tools to optimize summer travel for electric vehicle (EV) drivers, focusing on smart energy management for long-distance journeys.\n",
       "   \n",
       "3. **Connected Vehicle Fleets (16/07/2025):** The company highlights the evolution of modern vehicles into intelligent, connected companions that enhance driving experiences.\n",
       "\n",
       "CARIAD is also actively recruiting, inviting talented individuals to join their mission of redefining mobility in the automotive sector."
      ],
      "text/plain": [
       "<IPython.core.display.Markdown object>"
      ]
     },
     "metadata": {},
     "output_type": "display_data"
    }
   ],
   "source": [
    "display_summary(\"https://cariad.technology\")"
   ]
  },
  {
   "cell_type": "markdown",
   "id": "b3bcf6f4-adce-45e9-97ad-d9a5d7a3a624",
   "metadata": {},
   "source": [
    "# Let's try more websites\n",
    "\n",
    "Note that this will only work on websites that can be scraped using this simplistic approach.\n",
    "\n",
    "Websites that are rendered with Javascript, like React apps, won't show up. See the community-contributions folder for a Selenium implementation that gets around this. You'll need to read up on installing Selenium (ask ChatGPT!)\n",
    "\n",
    "Also Websites protected with CloudFront (and similar) may give 403 errors - many thanks Andy J for pointing this out.\n",
    "\n",
    "But many websites will work just fine!"
   ]
  },
  {
   "cell_type": "code",
   "execution_count": 22,
   "id": "45d83403-a24c-44b5-84ac-961449b4008f",
   "metadata": {},
   "outputs": [
    {
     "data": {
      "text/markdown": [
       "# Summary of CNN Website Content\n",
       "\n",
       "The CNN website provides a comprehensive array of news articles, videos, and features covering various global, national, and local topics. The site is organized into several categories including **US**, **World**, **Politics**, **Business**, **Health**, **Entertainment**, **Sports**, **Science**, and more. \n",
       "\n",
       "## Notable News Reports\n",
       "1. **Gaza City Famine**: A UN-backed initiative has reported that Gaza City is suffering from a \"man-made\" famine, which is expected to spread further.\n",
       "2. **Israel-Hamas War**: Israeli Prime Minister Benjamin Netanyahu has ordered immediate negotiations for the release of hostages and an end to the ongoing conflict in Gaza.\n",
       "3. **FBI Search**: Former National Security Advisor John Bolton's home was searched by the FBI.\n",
       "4. **US Redistricting**: Developments regarding California's and Texas's redistricting plans are ongoing, with political implications being discussed.\n",
       "5. **Crime News**: Lil Nas X has been arrested for battery against a police officer, and other high-profile criminal cases are highlighted.\n",
       "\n",
       "## Additional Content\n",
       "The site also includes analyses on various issues such as:\n",
       "- Trump’s influence on judicial nominations.\n",
       "- Russia's military actions in Ukraine, including the increase in drone attacks.\n",
       "- Environmental stories, such as the use of drones to drop mosquitoes in Hawaii.\n",
       "\n",
       "## Interactive Features\n",
       "CNN offers interactive games and quizzes, along with live TV options and opportunities for personalized news updates through subscriptions and newsletters. \n",
       "\n",
       "For readers looking for timely and critical news updates, CNN serves as a robust platform for real-time information across multiple categories."
      ],
      "text/plain": [
       "<IPython.core.display.Markdown object>"
      ]
     },
     "metadata": {},
     "output_type": "display_data"
    }
   ],
   "source": [
    "display_summary(\"https://cnn.com\")"
   ]
  },
  {
   "cell_type": "code",
   "execution_count": null,
   "id": "bf0cfc63-6e98-406c-b9ca-3f763d83db42",
   "metadata": {},
   "outputs": [],
   "source": []
  },
  {
   "cell_type": "code",
   "execution_count": 23,
   "id": "75e9fd40-b354-4341-991e-863ef2e59db7",
   "metadata": {},
   "outputs": [
    {
     "data": {
      "text/markdown": [
       "# Anthropic Website Summary\n",
       "\n",
       "The **Anthropic** website primarily showcases its AI product, **Claude**, and its various iterations like **Claude Opus 4.1** and **Claude Sonnet 4**. It emphasizes the importance of safety in AI development, aiming to create tools that benefit humanity's long-term well-being. \n",
       "\n",
       "## Key Features:\n",
       "\n",
       "- **Claude Models**: Introduces powerful AI models designed for a variety of applications including coding, customer support, and education.\n",
       "- **API Integration**: Provides resources for developers to build AI-powered applications using Claude.\n",
       "- **Research & Initiatives**: Features studies related to the societal impacts of AI, responsible scaling policies, and commitments to transparency.\n",
       "- **Education**: Offers resources through the **Anthropic Academy** to help users learn how to effectively utilize Claude.\n",
       "\n",
       "## Recent Announcements:\n",
       "\n",
       "- **ISO 42001 Certification**: Acknowledgment of achieving certification for maintaining high standards in AI development.\n",
       "- **Claude Opus 4.1**: Recent release highlighting advanced capabilities for AI operations.\n",
       "- **Project Vend** and **Agentic Misalignment**: Announcements focused on alignment and ethical considerations in AI policies.\n",
       "\n",
       "The site integrates various resources for both potential users of Claude and those interested in AI safety and research."
      ],
      "text/plain": [
       "<IPython.core.display.Markdown object>"
      ]
     },
     "metadata": {},
     "output_type": "display_data"
    }
   ],
   "source": [
    "display_summary(\"https://anthropic.com\")"
   ]
  },
  {
   "cell_type": "markdown",
   "id": "c951be1a-7f1b-448f-af1f-845978e47e2c",
   "metadata": {},
   "source": [
    "<table style=\"margin: 0; text-align: left;\">\n",
    "    <tr>\n",
    "        <td style=\"width: 150px; height: 150px; vertical-align: middle;\">\n",
    "            <img src=\"../business.jpg\" width=\"150\" height=\"150\" style=\"display: block;\" />\n",
    "        </td>\n",
    "        <td>\n",
    "            <h2 style=\"color:#181;\">Business applications</h2>\n",
    "            <span style=\"color:#181;\">In this exercise, you experienced calling the Cloud API of a Frontier Model (a leading model at the frontier of AI) for the first time. We will be using APIs like OpenAI at many stages in the course, in addition to building our own LLMs.\n",
    "\n",
    "More specifically, we've applied this to Summarization - a classic Gen AI use case to make a summary. This can be applied to any business vertical - summarizing the news, summarizing financial performance, summarizing a resume in a cover letter - the applications are limitless. Consider how you could apply Summarization in your business, and try prototyping a solution.</span>\n",
    "        </td>\n",
    "    </tr>\n",
    "</table>\n",
    "\n",
    "<table style=\"margin: 0; text-align: left;\">\n",
    "    <tr>\n",
    "        <td style=\"width: 150px; height: 150px; vertical-align: middle;\">\n",
    "            <img src=\"../important.jpg\" width=\"150\" height=\"150\" style=\"display: block;\" />\n",
    "        </td>\n",
    "        <td>\n",
    "            <h2 style=\"color:#900;\">Before you continue - now try yourself</h2>\n",
    "            <span style=\"color:#900;\">Use the cell below to make your own simple commercial example. Stick with the summarization use case for now. Here's an idea: write something that will take the contents of an email, and will suggest an appropriate short subject line for the email. That's the kind of feature that might be built into a commercial email tool.</span>\n",
    "        </td>\n",
    "    </tr>\n",
    "</table>"
   ]
  },
  {
   "cell_type": "code",
   "execution_count": null,
   "id": "f4484fcf-8b39-4c3f-9674-37970ed71988",
   "metadata": {},
   "outputs": [],
   "source": []
  },
  {
   "cell_type": "markdown",
   "id": "7ef03654-c824-4aae-83ec-c199c62f4518",
   "metadata": {},
   "source": [
    "## Webscraping 2.0\n",
    "\n",
    "Extended to use:\n",
    "- OpenAI and local OLLAMA\n",
    "- As well basic dealing with JS"
   ]
  },
  {
   "cell_type": "code",
   "execution_count": 24,
   "id": "6eafbd44-22e7-4ad4-8991-28570abcd086",
   "metadata": {
    "collapsed": true,
    "jupyter": {
     "outputs_hidden": true
    }
   },
   "outputs": [
    {
     "name": "stdout",
     "output_type": "stream",
     "text": [
      "Collecting selenium\n",
      "  Downloading selenium-4.35.0-py3-none-any.whl.metadata (7.4 kB)\n",
      "Collecting webdriver-manager\n",
      "  Downloading webdriver_manager-4.0.2-py2.py3-none-any.whl.metadata (12 kB)\n",
      "Requirement already satisfied: beautifulsoup4 in /Users/diletta/anaconda3/envs/llms/lib/python3.11/site-packages (4.13.4)\n",
      "Collecting markdown\n",
      "  Downloading markdown-3.8.2-py3-none-any.whl.metadata (5.1 kB)\n",
      "Requirement already satisfied: urllib3<3.0,>=2.5.0 in /Users/diletta/anaconda3/envs/llms/lib/python3.11/site-packages (from urllib3[socks]<3.0,>=2.5.0->selenium) (2.5.0)\n",
      "Collecting trio~=0.30.0 (from selenium)\n",
      "  Downloading trio-0.30.0-py3-none-any.whl.metadata (8.5 kB)\n",
      "Collecting trio-websocket~=0.12.2 (from selenium)\n",
      "  Downloading trio_websocket-0.12.2-py3-none-any.whl.metadata (5.1 kB)\n",
      "Requirement already satisfied: certifi>=2025.6.15 in /Users/diletta/anaconda3/envs/llms/lib/python3.11/site-packages (from selenium) (2025.8.3)\n",
      "Requirement already satisfied: typing_extensions~=4.14.0 in /Users/diletta/anaconda3/envs/llms/lib/python3.11/site-packages (from selenium) (4.14.1)\n",
      "Requirement already satisfied: websocket-client~=1.8.0 in /Users/diletta/anaconda3/envs/llms/lib/python3.11/site-packages (from selenium) (1.8.0)\n",
      "Requirement already satisfied: attrs>=23.2.0 in /Users/diletta/anaconda3/envs/llms/lib/python3.11/site-packages (from trio~=0.30.0->selenium) (25.3.0)\n",
      "Collecting sortedcontainers (from trio~=0.30.0->selenium)\n",
      "  Downloading sortedcontainers-2.4.0-py2.py3-none-any.whl.metadata (10 kB)\n",
      "Requirement already satisfied: idna in /Users/diletta/anaconda3/envs/llms/lib/python3.11/site-packages (from trio~=0.30.0->selenium) (3.10)\n",
      "Collecting outcome (from trio~=0.30.0->selenium)\n",
      "  Downloading outcome-1.3.0.post0-py2.py3-none-any.whl.metadata (2.6 kB)\n",
      "Requirement already satisfied: sniffio>=1.3.0 in /Users/diletta/anaconda3/envs/llms/lib/python3.11/site-packages (from trio~=0.30.0->selenium) (1.3.1)\n",
      "Collecting wsproto>=0.14 (from trio-websocket~=0.12.2->selenium)\n",
      "  Downloading wsproto-1.2.0-py3-none-any.whl.metadata (5.6 kB)\n",
      "Requirement already satisfied: pysocks!=1.5.7,<2.0,>=1.5.6 in /Users/diletta/anaconda3/envs/llms/lib/python3.11/site-packages (from urllib3[socks]<3.0,>=2.5.0->selenium) (1.7.1)\n",
      "Requirement already satisfied: requests in /Users/diletta/anaconda3/envs/llms/lib/python3.11/site-packages (from webdriver-manager) (2.32.5)\n",
      "Requirement already satisfied: python-dotenv in /Users/diletta/anaconda3/envs/llms/lib/python3.11/site-packages (from webdriver-manager) (1.1.1)\n",
      "Requirement already satisfied: packaging in /Users/diletta/anaconda3/envs/llms/lib/python3.11/site-packages (from webdriver-manager) (25.0)\n",
      "Requirement already satisfied: soupsieve>1.2 in /Users/diletta/anaconda3/envs/llms/lib/python3.11/site-packages (from beautifulsoup4) (2.7)\n",
      "Requirement already satisfied: h11<1,>=0.9.0 in /Users/diletta/anaconda3/envs/llms/lib/python3.11/site-packages (from wsproto>=0.14->trio-websocket~=0.12.2->selenium) (0.16.0)\n",
      "Requirement already satisfied: charset_normalizer<4,>=2 in /Users/diletta/anaconda3/envs/llms/lib/python3.11/site-packages (from requests->webdriver-manager) (3.4.3)\n",
      "Downloading selenium-4.35.0-py3-none-any.whl (9.6 MB)\n",
      "\u001b[2K   \u001b[38;2;114;156;31m━━━━━━━━━━━━━━━━━━━━━━━━━━━━━━━━━━━━━━━━\u001b[0m \u001b[32m9.6/9.6 MB\u001b[0m \u001b[31m12.7 MB/s\u001b[0m  \u001b[33m0:00:00\u001b[0m \u001b[31m13.0 MB/s\u001b[0m eta \u001b[36m0:00:01\u001b[0m\n",
      "\u001b[?25hDownloading trio-0.30.0-py3-none-any.whl (499 kB)\n",
      "Downloading trio_websocket-0.12.2-py3-none-any.whl (21 kB)\n",
      "Downloading webdriver_manager-4.0.2-py2.py3-none-any.whl (27 kB)\n",
      "Downloading markdown-3.8.2-py3-none-any.whl (106 kB)\n",
      "Downloading outcome-1.3.0.post0-py2.py3-none-any.whl (10 kB)\n",
      "Downloading wsproto-1.2.0-py3-none-any.whl (24 kB)\n",
      "Downloading sortedcontainers-2.4.0-py2.py3-none-any.whl (29 kB)\n",
      "Installing collected packages: sortedcontainers, wsproto, outcome, markdown, webdriver-manager, trio, trio-websocket, selenium\n",
      "\u001b[2K   \u001b[38;2;114;156;31m━━━━━━━━━━━━━━━━━━━━━━━━━━━━━━━━━━━━━━━━\u001b[0m \u001b[32m8/8\u001b[0m [selenium]━━\u001b[0m \u001b[32m7/8\u001b[0m [selenium]\n",
      "\u001b[1A\u001b[2KSuccessfully installed markdown-3.8.2 outcome-1.3.0.post0 selenium-4.35.0 sortedcontainers-2.4.0 trio-0.30.0 trio-websocket-0.12.2 webdriver-manager-4.0.2 wsproto-1.2.0\n"
     ]
    }
   ],
   "source": [
    "!pip install selenium webdriver-manager beautifulsoup4 markdown"
   ]
  },
  {
   "cell_type": "code",
   "execution_count": 29,
   "id": "a283da4d-7d3a-4131-a422-552683761009",
   "metadata": {},
   "outputs": [],
   "source": [
    "import time\n",
    "import json\n",
    "import subprocess\n",
    "from typing import List, Dict, Optional\n",
    "\n",
    "import requests\n",
    "from bs4 import BeautifulSoup\n",
    "from IPython.display import display, Markdown\n",
    "\n",
    "from selenium import webdriver\n",
    "from selenium.webdriver.chrome.options import Options\n",
    "from selenium.webdriver.chrome.service import Service\n",
    "from selenium.webdriver.support.ui import WebDriverWait\n",
    "from webdriver_manager.chrome import ChromeDriverManager\n",
    "\n",
    "# ---------- Fetchers ----------\n",
    "UA = (\"Mozilla/5.0 (Windows NT 10.0; Win64; x64) AppleWebKit/537.36 \"\n",
    "      \"(KHTML, like Gecko) Chrome/117.0.0.0 Safari/537.36\")\n",
    "headers = {\"User-Agent\": UA}\n",
    "\n",
    "def get_rendered_html(url: str, wait_secs: int = 6) -> str:\n",
    "\n",
    "    opts = Options()\n",
    "    opts.add_argument(\"--headless=new\")\n",
    "    opts.add_argument(\"--no-sandbox\")\n",
    "    opts.add_argument(\"--disable-dev-shm-usage\")\n",
    "    opts.add_argument(f\"--user-agent={UA}\")\n",
    "\n",
    "    service = Service(ChromeDriverManager().install())\n",
    "    driver = webdriver.Chrome(service=service, options=opts)\n",
    "    try:\n",
    "        driver.get(url)\n",
    "        WebDriverWait(driver, wait_secs).until(\n",
    "            lambda d: d.execute_script(\"return document.readyState\") == \"complete\"\n",
    "        )\n",
    "        time.sleep(1.5)\n",
    "        return driver.page_source\n",
    "    finally:\n",
    "        driver.quit()\n",
    "\n",
    "# ---------- Website ----------\n",
    "class Website:\n",
    "    def __init__(self, url: str, render_js: bool = False, wait_secs: int = 6):\n",
    "        self.url = url\n",
    "        if render_js:\n",
    "            html = get_rendered_html(url, wait_secs=wait_secs)\n",
    "        else:\n",
    "            resp = requests.get(url, headers=headers, timeout=30)\n",
    "            resp.raise_for_status()\n",
    "            html = resp.text\n",
    "\n",
    "        soup = BeautifulSoup(html, \"html.parser\")\n",
    "        self.title = (\n",
    "            soup.title.string.strip()\n",
    "            if soup.title and getattr(soup.title, \"string\", None)\n",
    "            else \"No title found\"\n",
    "        )\n",
    "\n",
    "        body = soup.body or soup\n",
    "        for irrelevant in body([\"script\", \"style\", \"img\", \"input\", \"noscript\"]):\n",
    "            irrelevant.decompose()\n",
    "\n",
    "        self.text = body.get_text(separator=\"\\n\", strip=True)\n",
    "\n",
    "# ---------- Prompt helpers ----------\n",
    "SYSTEM_PROMPT = \"You are an assistant that analyzes the contents of a website \\\n",
    "and provides a short summary, ignoring text that might be navigation related. \\\n",
    "Respond in markdown.\"\n",
    "\n",
    "def user_prompt_for(website: Website) -> str:\n",
    "    return (\n",
    "        f\"You are looking at a website titled {website.title}\\n\"\n",
    "        \"The contents of this website is as follows; provide a short summary \"\n",
    "        \"of this website in markdown. If it includes news or announcements, summarize these too.\\n\\n\"\n",
    "        f\"{website.text}\"\n",
    "    )\n",
    "\n",
    "def messages_for(website: Website) -> List[Dict[str, str]]:\n",
    "    return [\n",
    "        {\"role\": \"system\", \"content\": SYSTEM_PROMPT},\n",
    "        {\"role\": \"user\", \"content\": user_prompt_for(website)},\n",
    "    ]\n",
    "\n",
    "# ---------- LLM client abstraction ----------\n",
    "class LLMClient:\n",
    "    def summarize_messages(self, messages: List[Dict[str, str]]) -> str:\n",
    "        raise NotImplementedError\n",
    "\n",
    "# OpenAI backend\n",
    "class OpenAIClient(LLMClient):\n",
    "    def __init__(self, model: str = \"gpt-4o-mini\"):\n",
    "        import openai  # local import to avoid hard dependency when using Ollama only\n",
    "        self._openai = openai\n",
    "        self.model = model\n",
    "\n",
    "    def summarize_messages(self, messages: List[Dict[str, str]]) -> str:\n",
    "        resp = self._openai.chat.completions.create(\n",
    "            model=self.model,\n",
    "            messages=messages,\n",
    "        )\n",
    "        return resp.choices[0].message.content\n",
    "\n",
    "# Ollama backend (via REST; no extra Python package required)\n",
    "def _ollama_available(timeout: float = 1.0) -> bool:\n",
    "    # Prefer HTTP probe; fallback to CLI version check\n",
    "    try:\n",
    "        r = requests.get(\"http://127.0.0.1:11434/api/tags\", timeout=timeout)\n",
    "        return r.ok\n",
    "    except Exception:\n",
    "        pass\n",
    "    try:\n",
    "        subprocess.run([\"ollama\", \"--version\"], stdout=subprocess.PIPE, stderr=subprocess.PIPE, timeout=2)\n",
    "        return True\n",
    "    except Exception:\n",
    "        return False\n",
    "\n",
    "def _ollama_model_installed(model: str, timeout: float = 2.0) -> bool:\n",
    "    try:\n",
    "        r = requests.get(\"http://127.0.0.1:11434/api/tags\", timeout=timeout)\n",
    "        if not r.ok:\n",
    "            return False\n",
    "        tags = r.json().get(\"models\", [])\n",
    "        names = {m.get(\"name\", \"\").split(\":\")[0] for m in tags}\n",
    "        return model.split(\":\")[0] in names\n",
    "    except Exception:\n",
    "        return False\n",
    "\n",
    "class OllamaClient(LLMClient):\n",
    "    def __init__(self, model: str = \"llama3.2\"):\n",
    "        if not _ollama_available():\n",
    "            raise RuntimeError(\n",
    "                \"Ollama is not reachable. Start the Ollama daemon. \"\n",
    "                \"On macOS: launch the app; on Linux: `ollama serve`.\"\n",
    "            )\n",
    "        if not _ollama_model_installed(model):\n",
    "            raise RuntimeError(\n",
    "                f\"Ollama model '{model}' not found locally. Pull it first:\\n\"\n",
    "                f\"  ollama pull {model}\\n\"\n",
    "                f\"Then retry.\"\n",
    "            )\n",
    "        self.model = model\n",
    "\n",
    "    def summarize_messages(self, messages: List[Dict[str, str]]) -> str:\n",
    "        # POST /api/chat expects: {model, messages:[{role, content}]}\n",
    "        payload = {\"model\": self.model, \"messages\": messages, \"stream\": False}\n",
    "        r = requests.post(\n",
    "            \"http://127.0.0.1:11434/api/chat\",\n",
    "            data=json.dumps(payload),\n",
    "            headers={\"Content-Type\": \"application/json\"},\n",
    "            timeout=120,\n",
    "        )\n",
    "        if not r.ok:\n",
    "            raise RuntimeError(f\"Ollama error: HTTP {r.status_code} - {r.text[:500]}\")\n",
    "        data = r.json()\n",
    "        # Format matches: {'message': {'role': 'assistant', 'content': '...'}, ...}\n",
    "        msg = data.get(\"message\", {})\n",
    "        content = msg.get(\"content\")\n",
    "        if not content:\n",
    "            # Some versions return aggregated content in 'response'\n",
    "            content = data.get(\"response\", \"\")\n",
    "        return content\n",
    "\n",
    "# ---------- Factory ----------\n",
    "def make_client(provider: str, model: Optional[str] = None) -> LLMClient:\n",
    "    p = provider.lower().strip()\n",
    "    if p == \"openai\":\n",
    "        return OpenAIClient(model=model or \"gpt-4o-mini\")\n",
    "    if p == \"ollama\":\n",
    "        return OllamaClient(model=model or \"llama3.2\")\n",
    "    raise ValueError(f\"Unknown provider '{provider}'. Use 'openai' or 'ollama'.\")\n",
    "\n",
    "# ---------- Public API ----------\n",
    "def summarize(url: str, provider: str = \"openai\", model: Optional[str] = None, render_js: bool = False) -> str:\n",
    "    website = Website(url, render_js=render_js)\n",
    "    client = make_client(provider, model)\n",
    "    return client.summarize_messages(messages_for(website))\n",
    "\n",
    "def display_summary(url: str, provider: str = \"openai\", model: Optional[str] = None, render_js: bool = False):\n",
    "    summary = summarize(url, provider=provider, model=model, render_js=render_js)\n",
    "    display(Markdown(summary))\n"
   ]
  },
  {
   "cell_type": "code",
   "execution_count": 30,
   "id": "29c237fd-5b62-4534-aaf6-fc7c81d7c3c7",
   "metadata": {},
   "outputs": [
    {
     "data": {
      "text/markdown": [
       "# CARIAD – Automotive Software for Volkswagen\n",
       "\n",
       "CARIAD is the automotive software company for the Volkswagen Group, focused on pioneering digital technologies to enhance mobility for iconic car brands such as Audi, Volkswagen, and Porsche. The company is dedicated to transforming vehicles into intelligent and connected experiences that prioritize safety, sustainability, and comfort.\n",
       "\n",
       "## Key Offerings:\n",
       "- **Automated Driving Solutions**: Focus on road safety and driving comfort through advanced automation.\n",
       "- **Infotainment Systems**: Development of user-centered infotainment solutions for personalized mobility.\n",
       "- **Digital Ecosystem**: Creation of interconnected digital environments in and around vehicles.\n",
       "- **Vehicle Platforms**: Purpose-built platforms for various vehicle functionalities including energy management and motion systems.\n",
       "\n",
       "## Latest News:\n",
       "1. **Collaboration with Bosch** (11/08/2025): Enhancing automated driving safety using AI, aiming for a higher level of technological integration.\n",
       "2. **EV Routing Solutions** (01/08/2025): Introduction of smart energy management features for better long-distance travel solutions for electric vehicle drivers during the summer travel season.\n",
       "3. **Connected Vehicle Fleet** (16/07/2025): Discussion on how CARIAD supports a connected vehicle fleet, transitioning vehicles from mere transportation means to intelligent, personalized companions.\n",
       "\n",
       "CARIAD is committed to innovation at scale, powering models like the Volkswagen ID.Buzz and ID.7, the Audi A5, and the electric Porsche Macan with cutting-edge technology. The company is also actively recruiting to expand its tech teams and encourage diversity in the workforce."
      ],
      "text/plain": [
       "<IPython.core.display.Markdown object>"
      ]
     },
     "metadata": {},
     "output_type": "display_data"
    }
   ],
   "source": [
    "display_summary(\"https://cariad.technology\", provider=\"openai\", model=\"gpt-4o-mini\", render_js=True)"
   ]
  },
  {
   "cell_type": "code",
   "execution_count": 32,
   "id": "e4263555-055d-4541-9fe5-e6b2a8fd2633",
   "metadata": {},
   "outputs": [
    {
     "data": {
      "text/markdown": [
       "# CARIAD – Automotive Software for Volkswagen\n",
       "\n",
       "CARIAD is the automotive software company of the Volkswagen Group, aiming to create and deliver leading digital technologies for iconic car brands. They develop scalable software platforms and digital customer functions for vehicles like the ID.Buzz, ID.7, Audi A5, and Porsche Macan.\n",
       "\n",
       "## News and Announcements\n",
       "\n",
       "* **Bosch and CARIAD Partner on Automated Driving**: The companies are making automated driving even safer with AI.\n",
       "* **CARIAD's EV Routing Solutions**: Makes electric vehicle routing solutions for long-distance journeys practical during summer months.\n",
       "* **CARIAD Powers Connected Vehicle Fleet**: Modern vehicles have evolved to become intelligent companions that turn every drive into a personalized, digital experience.\n",
       "\n",
       "## Solutions\n",
       "\n",
       "CARIAD offers various solutions:\n",
       "\n",
       "* **Futureproof Hardware**: Supports the Volkswagen Group's path to becoming a global tech driver in automotive.\n",
       "* **Unified Software**: Develops synergetic tech for enhanced road safety and driving comfort, user-centric infotainment solutions, and a digital ecosystem in and around the car.\n",
       "* **Innovative Applications**: Purpose-build vehicle driving platform for energy, body, and motion systems.\n",
       "\n",
       "## Careers\n",
       "\n",
       "CARIAD offers job opportunities in various fields, including:\n",
       "\n",
       "* **Our Jobs**\n",
       "* **Locations**\n",
       "* **Recruiting Process**\n",
       "\n",
       "Note: The website's content is mostly navigation-related, so the provided summary only includes relevant information."
      ],
      "text/plain": [
       "<IPython.core.display.Markdown object>"
      ]
     },
     "metadata": {},
     "output_type": "display_data"
    }
   ],
   "source": [
    "display_summary(\"https://cariad.technology\", provider=\"ollama\", model=\"llama3.2\", render_js=True)"
   ]
  }
 ],
 "metadata": {
  "kernelspec": {
   "display_name": "Python 3 (ipykernel)",
   "language": "python",
   "name": "python3"
  },
  "language_info": {
   "codemirror_mode": {
    "name": "ipython",
    "version": 3
   },
   "file_extension": ".py",
   "mimetype": "text/x-python",
   "name": "python",
   "nbconvert_exporter": "python",
   "pygments_lexer": "ipython3",
   "version": "3.11.13"
  }
 },
 "nbformat": 4,
 "nbformat_minor": 5
}
